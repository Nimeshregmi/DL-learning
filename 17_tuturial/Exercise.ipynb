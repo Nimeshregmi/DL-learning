{
 "cells": [
  {
   "cell_type": "code",
   "execution_count": 1,
   "id": "ac070d1d-4561-4eba-a19c-693528188ced",
   "metadata": {},
   "outputs": [
    {
     "name": "stdout",
     "output_type": "stream",
     "text": [
      "2.10.0\n"
     ]
    }
   ],
   "source": [
    "# TensorFlow and tf.keras\n",
    "import tensorflow as tf\n",
    "from tensorflow import keras\n",
    "\n",
    "# Helper libraries\n",
    "import numpy as np\n",
    "import matplotlib.pyplot as plt\n",
    "\n",
    "print(tf.__version__)"
   ]
  },
  {
   "cell_type": "code",
   "execution_count": 2,
   "id": "fed8f424-23c4-4aa8-bd3c-3346debbfae9",
   "metadata": {},
   "outputs": [],
   "source": [
    "fashion_mnist = keras.datasets.fashion_mnist\n",
    "\n",
    "(train_images, train_labels), (test_images, test_labels) = fashion_mnist.load_data()"
   ]
  },
  {
   "cell_type": "code",
   "execution_count": 3,
   "id": "50b2ee7e-3d32-441f-8c89-f228a5375b0f",
   "metadata": {},
   "outputs": [
    {
     "data": {
      "text/plain": [
       "(60000,)"
      ]
     },
     "execution_count": 3,
     "metadata": {},
     "output_type": "execute_result"
    }
   ],
   "source": [
    "train_labels.shape"
   ]
  },
  {
   "cell_type": "code",
   "execution_count": 4,
   "id": "8b9a7a35-31c7-4ba6-8b65-57ad58f30fc0",
   "metadata": {},
   "outputs": [],
   "source": [
    "classes = ['T-shirt/top', 'Trouser', 'Pullover', 'Dress', 'Coat',\n",
    "               'Sandal', 'Shirt', 'Sneaker', 'Bag', 'Ankle boot']"
   ]
  },
  {
   "cell_type": "code",
   "execution_count": 5,
   "id": "f35c5f32-d148-494e-ae0b-2bb8b2c85486",
   "metadata": {},
   "outputs": [],
   "source": [
    "train_images_scaled = train_images / 255.0\n",
    "test_images_scaled = test_images / 255.0"
   ]
  },
  {
   "cell_type": "code",
   "execution_count": 6,
   "id": "a22e2f83-b28c-4364-acbf-b107a6356656",
   "metadata": {},
   "outputs": [],
   "source": [
    "from keras.utils import to_categorical\n",
    "train_labels_categorical = to_categorical(train_labels, num_classes=10, dtype='float32')\n",
    "test_labels_categorical = to_categorical(test_labels, num_classes=10, dtype='float32')\n"
   ]
  },
  {
   "cell_type": "code",
   "execution_count": 7,
   "id": "5f4c5f12-1de7-4606-bcb8-ce635a50c63e",
   "metadata": {},
   "outputs": [],
   "source": [
    "def get_model(hidden_layers=1, units_per_layer=200):\n",
    "    layers = []\n",
    "    layers.append(keras.layers.Flatten(input_shape=(28, 28)))\n",
    "    for i in range(hidden_layers): \n",
    "        layers.append(keras.layers.Dense(units_per_layer, activation='relu'))\n",
    "    layers.append(keras.layers.Dense(10, activation='softmax'))        \n",
    "    model = keras.Sequential(layers)\n",
    "\n",
    "    model.compile(optimizer='adam',\n",
    "                  loss='categorical_crossentropy',\n",
    "                  metrics=['accuracy'])\n",
    "    return model"
   ]
  },
  {
   "cell_type": "code",
   "execution_count": 8,
   "id": "52868425-e2ec-48fa-a840-18c0e5b18b4c",
   "metadata": {},
   "outputs": [
    {
     "data": {
      "text/plain": [
       "<keras.engine.sequential.Sequential at 0x2cfe4003190>"
      ]
     },
     "execution_count": 8,
     "metadata": {},
     "output_type": "execute_result"
    }
   ],
   "source": [
    "get_model(3)"
   ]
  },
  {
   "cell_type": "code",
   "execution_count": 9,
   "id": "d02af6f6-d347-4045-8371-5100551b05d0",
   "metadata": {},
   "outputs": [],
   "source": [
    "# model = get_model(hidden_layers=1, units_per_layer=500)\n",
    "# model.fit(train_images_scaled, train_labels_categorical, epochs=5, validation_data=(test_images_scaled, test_labels_categorical))"
   ]
  },
  {
   "cell_type": "code",
   "execution_count": 10,
   "id": "81ac0b7d-82ed-49cd-95e9-cf90cb315865",
   "metadata": {},
   "outputs": [
    {
     "name": "stdout",
     "output_type": "stream",
     "text": [
      "Epoch 1/5\n",
      "1875/1875 [==============================] - 6s 3ms/step - loss: 0.4724 - accuracy: 0.8303 - val_loss: 0.3992 - val_accuracy: 0.8578\n",
      "Epoch 2/5\n",
      "1875/1875 [==============================] - 6s 3ms/step - loss: 0.3583 - accuracy: 0.8692 - val_loss: 0.3711 - val_accuracy: 0.8667\n",
      "Epoch 3/5\n",
      "1875/1875 [==============================] - 6s 3ms/step - loss: 0.3217 - accuracy: 0.8825 - val_loss: 0.3587 - val_accuracy: 0.8701\n",
      "Epoch 4/5\n",
      "1875/1875 [==============================] - 6s 3ms/step - loss: 0.2973 - accuracy: 0.8903 - val_loss: 0.3476 - val_accuracy: 0.8754\n",
      "Epoch 5/5\n",
      "1875/1875 [==============================] - 6s 3ms/step - loss: 0.2816 - accuracy: 0.8948 - val_loss: 0.3883 - val_accuracy: 0.8650\n",
      "29.3 s ± 0 ns per loop (mean ± std. dev. of 1 run, 1 loop each)\n"
     ]
    }
   ],
   "source": [
    "%%timeit -n1 -r1\n",
    "with tf.device('/CPU:0'):\n",
    "    model = get_model(hidden_layers=1, units_per_layer=500)\n",
    "    model.fit(train_images_scaled, train_labels_categorical, epochs=5, validation_data=(test_images_scaled, test_labels_categorical))\n",
    "    "
   ]
  },
  {
   "cell_type": "code",
   "execution_count": 11,
   "id": "60645112-e183-4fe1-8c25-21888e4f4fe4",
   "metadata": {},
   "outputs": [
    {
     "name": "stdout",
     "output_type": "stream",
     "text": [
      "Epoch 1/5\n",
      "1875/1875 [==============================] - 10s 5ms/step - loss: 0.4736 - accuracy: 0.8312 - val_loss: 0.4371 - val_accuracy: 0.8420\n",
      "Epoch 2/5\n",
      "1875/1875 [==============================] - 9s 5ms/step - loss: 0.3586 - accuracy: 0.8695 - val_loss: 0.3754 - val_accuracy: 0.8670\n",
      "Epoch 3/5\n",
      "1875/1875 [==============================] - 8s 4ms/step - loss: 0.3234 - accuracy: 0.8821 - val_loss: 0.3728 - val_accuracy: 0.8651\n",
      "Epoch 4/5\n",
      "1875/1875 [==============================] - 8s 4ms/step - loss: 0.2974 - accuracy: 0.8905 - val_loss: 0.3654 - val_accuracy: 0.8635\n",
      "Epoch 5/5\n",
      "1875/1875 [==============================] - 8s 4ms/step - loss: 0.2801 - accuracy: 0.8952 - val_loss: 0.3505 - val_accuracy: 0.8770\n",
      "43.3 s ± 0 ns per loop (mean ± std. dev. of 1 run, 1 loop each)\n"
     ]
    }
   ],
   "source": [
    "%%timeit -n1 -r1\n",
    "with tf.device('/GPU:0'):\n",
    "    model = get_model(hidden_layers=1, units_per_layer=500)\n",
    "    model.fit(train_images_scaled, train_labels_categorical, epochs=5, validation_data=(test_images_scaled, test_labels_categorical))\n",
    "    "
   ]
  },
  {
   "cell_type": "code",
   "execution_count": 12,
   "id": "0fbb2e79-ad0f-46a2-94a8-d4670ea59cda",
   "metadata": {},
   "outputs": [
    {
     "name": "stdout",
     "output_type": "stream",
     "text": [
      "Epoch 1/5\n",
      "1875/1875 [==============================] - 15s 8ms/step - loss: 0.5254 - accuracy: 0.8106 - val_loss: 0.4349 - val_accuracy: 0.8352\n",
      "Epoch 2/5\n",
      "1875/1875 [==============================] - 14s 8ms/step - loss: 0.3935 - accuracy: 0.8604 - val_loss: 0.4280 - val_accuracy: 0.8600\n",
      "Epoch 3/5\n",
      "1875/1875 [==============================] - 15s 8ms/step - loss: 0.3544 - accuracy: 0.8715 - val_loss: 0.3667 - val_accuracy: 0.8714\n",
      "Epoch 4/5\n",
      "1875/1875 [==============================] - 15s 8ms/step - loss: 0.3290 - accuracy: 0.8813 - val_loss: 0.3641 - val_accuracy: 0.8715\n",
      "Epoch 5/5\n",
      "1875/1875 [==============================] - 15s 8ms/step - loss: 0.3102 - accuracy: 0.8869 - val_loss: 0.3509 - val_accuracy: 0.8780\n",
      "1min 12s ± 0 ns per loop (mean ± std. dev. of 1 run, 1 loop each)\n"
     ]
    }
   ],
   "source": [
    "%%timeit -n1 -r1\n",
    "with tf.device('/CPU'):\n",
    "    model = get_model(hidden_layers=5, units_per_layer=500)\n",
    "    model.fit(train_images_scaled, train_labels_categorical, epochs=5, validation_data=(test_images_scaled, test_labels_categorical))\n",
    "    "
   ]
  },
  {
   "cell_type": "code",
   "execution_count": 13,
   "id": "fb2f859b-eb77-4b89-8ea2-7f60503418b4",
   "metadata": {},
   "outputs": [
    {
     "name": "stdout",
     "output_type": "stream",
     "text": [
      "Epoch 1/5\n",
      "1875/1875 [==============================] - 11s 5ms/step - loss: 0.5206 - accuracy: 0.8103 - val_loss: 0.4390 - val_accuracy: 0.8445\n",
      "Epoch 2/5\n",
      "1875/1875 [==============================] - 10s 5ms/step - loss: 0.3887 - accuracy: 0.8584 - val_loss: 0.4022 - val_accuracy: 0.8586\n",
      "Epoch 3/5\n",
      "1875/1875 [==============================] - 9s 5ms/step - loss: 0.3545 - accuracy: 0.8709 - val_loss: 0.3997 - val_accuracy: 0.8662\n",
      "Epoch 4/5\n",
      "1875/1875 [==============================] - 9s 5ms/step - loss: 0.3284 - accuracy: 0.8816 - val_loss: 0.3497 - val_accuracy: 0.8737\n",
      "Epoch 5/5\n",
      "1875/1875 [==============================] - 10s 6ms/step - loss: 0.3113 - accuracy: 0.8873 - val_loss: 0.3647 - val_accuracy: 0.8707\n",
      "49.4 s ± 0 ns per loop (mean ± std. dev. of 1 run, 1 loop each)\n"
     ]
    }
   ],
   "source": [
    "%%timeit -n1 -r1\n",
    "with tf.device('/GPU'):\n",
    "    model = get_model(hidden_layers=5, units_per_layer=500)\n",
    "    model.fit(train_images_scaled, train_labels_categorical, epochs=5, validation_data=(test_images_scaled, test_labels_categorical))\n",
    "    "
   ]
  },
  {
   "cell_type": "code",
   "execution_count": 16,
   "id": "8046e202-a30e-44d2-b3ca-bd8e551925c0",
   "metadata": {},
   "outputs": [
    {
     "name": "stdout",
     "output_type": "stream",
     "text": [
      "Epoch 1/5\n",
      "1875/1875 [==============================] - 9s 5ms/step - loss: 0.4746 - accuracy: 0.8313 - val_loss: 0.4570 - val_accuracy: 0.8355\n",
      "Epoch 2/5\n",
      "1875/1875 [==============================] - 9s 5ms/step - loss: 0.3581 - accuracy: 0.8685 - val_loss: 0.3630 - val_accuracy: 0.8719\n",
      "Epoch 3/5\n",
      "1875/1875 [==============================] - 8s 4ms/step - loss: 0.3220 - accuracy: 0.8818 - val_loss: 0.3590 - val_accuracy: 0.8732\n",
      "Epoch 4/5\n",
      "1875/1875 [==============================] - 12s 7ms/step - loss: 0.3010 - accuracy: 0.8880 - val_loss: 0.3403 - val_accuracy: 0.8736\n",
      "Epoch 5/5\n",
      "1875/1875 [==============================] - 14s 8ms/step - loss: 0.2788 - accuracy: 0.8958 - val_loss: 0.3698 - val_accuracy: 0.8668\n",
      "53.7 s ± 0 ns per loop (mean ± std. dev. of 1 run, 1 loop each)\n"
     ]
    }
   ],
   "source": [
    "%%timeit -n1 -r1\n",
    "import tensorflow as tf\n",
    "tf.debugging.set_log_device_placement(True)\n",
    "\n",
    "# Your code\n",
    "with tf.device('/GPU:0'):\n",
    "    model = get_model(hidden_layers=1, units_per_layer=500)\n",
    "    model.fit(train_images_scaled, train_labels_categorical, epochs=5, validation_data=(test_images_scaled, test_labels_categorical))\n"
   ]
  },
  {
   "cell_type": "code",
   "execution_count": null,
   "id": "fd90544a-73e5-48d0-b4ce-283b391e2cef",
   "metadata": {},
   "outputs": [],
   "source": []
  }
 ],
 "metadata": {
  "kernelspec": {
   "display_name": "Python 3 (ipykernel)",
   "language": "python",
   "name": "python3"
  },
  "language_info": {
   "codemirror_mode": {
    "name": "ipython",
    "version": 3
   },
   "file_extension": ".py",
   "mimetype": "text/x-python",
   "name": "python",
   "nbconvert_exporter": "python",
   "pygments_lexer": "ipython3",
   "version": "3.10.14"
  },
  "widgets": {
   "application/vnd.jupyter.widget-state+json": {
    "state": {},
    "version_major": 2,
    "version_minor": 0
   }
  }
 },
 "nbformat": 4,
 "nbformat_minor": 5
}
