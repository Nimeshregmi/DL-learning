{
 "cells": [
  {
   "cell_type": "code",
   "execution_count": 1,
   "id": "29eddf26-5daa-41b8-8360-c84850d43d03",
   "metadata": {},
   "outputs": [],
   "source": [
    "import tensorflow as tf \n",
    "from tensorflow import keras\n",
    "import pandas as pd \n",
    "import numpy as np \n",
    "import matplotlib.pyplot as plt\n",
    "import pickle"
   ]
  },
  {
   "cell_type": "code",
   "execution_count": 3,
   "id": "bf4a0d04-1e0b-46fb-9d38-9c45ca16ad43",
   "metadata": {},
   "outputs": [
    {
     "data": {
      "text/plain": [
       "[PhysicalDevice(name='/physical_device:CPU:0', device_type='CPU'),\n",
       " PhysicalDevice(name='/physical_device:GPU:0', device_type='GPU')]"
      ]
     },
     "execution_count": 3,
     "metadata": {},
     "output_type": "execute_result"
    }
   ],
   "source": [
    "tf.config.experimental.list_physical_devices()"
   ]
  },
  {
   "cell_type": "code",
   "execution_count": 4,
   "id": "b40a8b4c-e5f3-46bb-a988-a4e16d49da12",
   "metadata": {},
   "outputs": [
    {
     "data": {
      "text/plain": [
       "True"
      ]
     },
     "execution_count": 4,
     "metadata": {},
     "output_type": "execute_result"
    }
   ],
   "source": [
    "tf.test.is_built_with_cuda()"
   ]
  },
  {
   "cell_type": "code",
   "execution_count": 5,
   "id": "a39cb518-7a80-4126-91f9-a78ee84ee69c",
   "metadata": {},
   "outputs": [],
   "source": [
    "(x_train,y_train),(x_test,y_test)=keras.datasets.cifar10.load_data()"
   ]
  },
  {
   "cell_type": "code",
   "execution_count": 6,
   "id": "6aba2d77-d05c-40fd-96ea-9aafc276530c",
   "metadata": {},
   "outputs": [
    {
     "data": {
      "text/plain": [
       "(50000, 32, 32, 3)"
      ]
     },
     "execution_count": 6,
     "metadata": {},
     "output_type": "execute_result"
    }
   ],
   "source": [
    "x_train.shape"
   ]
  },
  {
   "cell_type": "code",
   "execution_count": 7,
   "id": "d6005879-426b-4fbe-b120-9ad33ab375e0",
   "metadata": {},
   "outputs": [
    {
     "data": {
      "text/plain": [
       "(50000, 1)"
      ]
     },
     "execution_count": 7,
     "metadata": {},
     "output_type": "execute_result"
    }
   ],
   "source": [
    "y_train.shape"
   ]
  },
  {
   "cell_type": "code",
   "execution_count": 8,
   "id": "26fb3344-063b-4ecc-81ef-d0ebb01263ca",
   "metadata": {},
   "outputs": [],
   "source": [
    "def plotImage(index):\n",
    "    plt.figure(figsize=(10,1))\n",
    "    plt.imshow(x_train[index])"
   ]
  },
  {
   "cell_type": "code",
   "execution_count": 9,
   "id": "fd6a60f6-d25e-4f8a-aa2e-1a041cab2a81",
   "metadata": {},
   "outputs": [
    {
     "data": {
      "image/png": "[encoded data removed]",
      "text/plain": [
       "<Figure size 1000x100 with 1 Axes>"
      ]
     },
     "metadata": {},
     "output_type": "display_data"
    }
   ],
   "source": [
    "plotImage(10)"
   ]
  },
  {
   "cell_type": "code",
   "execution_count": 10,
   "id": "5090fe80-a9d3-4fbd-9a8e-09ab26192bf4",
   "metadata": {},
   "outputs": [],
   "source": [
    "x_trained_scaled=x_train/255\n",
    "x_test_scaled=x_test/255"
   ]
  },
  {
   "cell_type": "code",
   "execution_count": 11,
   "id": "413523b6-e0bc-4ec5-b8d4-6d8bf3948d7e",
   "metadata": {},
   "outputs": [],
   "source": [
    "classes = [\"airplane\",\"automobile\",\"bird\",\"cat\",\"deer\",\"dog\",\"frog\",\"horse\",\"ship\",\"truck\"]"
   ]
  },
  {
   "cell_type": "code",
   "execution_count": 26,
   "id": "52af5688-0ade-4cd6-90bd-3c90d6ceef4d",
   "metadata": {},
   "outputs": [
    {
     "data": {
      "text/plain": [
       "array([[0., 0., 0., 0., 0., 0., 1., 0., 0., 0.],\n",
       "       [0., 0., 0., 0., 0., 0., 0., 0., 0., 1.],\n",
       "       [0., 0., 0., 0., 0., 0., 0., 0., 0., 1.],\n",
       "       [0., 0., 0., 0., 1., 0., 0., 0., 0., 0.]], dtype=float32)"
      ]
     },
     "execution_count": 26,
     "metadata": {},
     "output_type": "execute_result"
    }
   ],
   "source": [
    "y_train_categorical=keras.utils.to_categorical(\n",
    "    y_train,num_classes=10, dtype='float32'\n",
    ")\n",
    "y_test_categorical=keras.utils.to_categorical(\n",
    "    y_test,num_classes=10, dtype='float32'\n",
    ")\n",
    "y_train_categorical[:4]"
   ]
  },
  {
   "cell_type": "code",
   "execution_count": 13,
   "id": "df9422af-9b71-49e3-ad73-1d9b0e37e698",
   "metadata": {},
   "outputs": [
    {
     "data": {
      "text/plain": [
       "(50000, 32, 32, 3)"
      ]
     },
     "execution_count": 13,
     "metadata": {},
     "output_type": "execute_result"
    }
   ],
   "source": [
    "x_trained_scaled.shape"
   ]
  },
  {
   "cell_type": "code",
   "execution_count": 14,
   "id": "c1061d78-02ff-455a-b640-827e5d3e0852",
   "metadata": {},
   "outputs": [
    {
     "name": "stdout",
     "output_type": "stream",
     "text": [
      "Epoch 1/50\n",
      "1563/1563 [==============================] - 12s 6ms/step - loss: 1.8082 - accuracy: 0.3550\n",
      "Epoch 2/50\n",
      "1563/1563 [==============================] - 10s 6ms/step - loss: 1.6215 - accuracy: 0.4289\n",
      "Epoch 3/50\n",
      "1563/1563 [==============================] - 10s 7ms/step - loss: 1.5419 - accuracy: 0.4556\n",
      "Epoch 4/50\n",
      "1563/1563 [==============================] - 11s 7ms/step - loss: 1.4784 - accuracy: 0.4798\n",
      "Epoch 5/50\n",
      "1563/1563 [==============================] - 9s 6ms/step - loss: 1.4307 - accuracy: 0.4949\n",
      "Epoch 6/50\n",
      "1563/1563 [==============================] - 10s 6ms/step - loss: 1.3894 - accuracy: 0.5103\n",
      "Epoch 7/50\n",
      "1563/1563 [==============================] - 9s 6ms/step - loss: 1.3471 - accuracy: 0.5247\n",
      "Epoch 8/50\n",
      "1563/1563 [==============================] - 10s 6ms/step - loss: 1.3127 - accuracy: 0.5411\n",
      "Epoch 9/50\n",
      "1563/1563 [==============================] - 9s 6ms/step - loss: 1.2810 - accuracy: 0.5523\n",
      "Epoch 10/50\n",
      "1563/1563 [==============================] - 7s 5ms/step - loss: 1.2493 - accuracy: 0.5622\n",
      "Epoch 11/50\n",
      "1563/1563 [==============================] - 9s 6ms/step - loss: 1.2217 - accuracy: 0.5722\n",
      "Epoch 12/50\n",
      "1563/1563 [==============================] - 10s 6ms/step - loss: 1.1918 - accuracy: 0.5849\n",
      "Epoch 13/50\n",
      "1563/1563 [==============================] - 10s 6ms/step - loss: 1.1634 - accuracy: 0.5917\n",
      "Epoch 14/50\n",
      "1563/1563 [==============================] - 10s 6ms/step - loss: 1.1362 - accuracy: 0.6031\n",
      "Epoch 15/50\n",
      "1563/1563 [==============================] - 10s 6ms/step - loss: 1.1109 - accuracy: 0.6141\n",
      "Epoch 16/50\n",
      "1563/1563 [==============================] - 10s 6ms/step - loss: 1.0811 - accuracy: 0.6242\n",
      "Epoch 17/50\n",
      "1563/1563 [==============================] - 10s 6ms/step - loss: 1.0596 - accuracy: 0.6310\n",
      "Epoch 18/50\n",
      "1563/1563 [==============================] - 10s 6ms/step - loss: 1.0300 - accuracy: 0.6421\n",
      "Epoch 19/50\n",
      "1563/1563 [==============================] - 10s 6ms/step - loss: 1.0065 - accuracy: 0.6513\n",
      "Epoch 20/50\n",
      "1563/1563 [==============================] - 10s 6ms/step - loss: 0.9794 - accuracy: 0.6623\n",
      "Epoch 21/50\n",
      "1563/1563 [==============================] - 10s 6ms/step - loss: 0.9559 - accuracy: 0.6673\n",
      "Epoch 22/50\n",
      "1563/1563 [==============================] - 10s 6ms/step - loss: 0.9306 - accuracy: 0.6798\n",
      "Epoch 23/50\n",
      "1563/1563 [==============================] - 10s 6ms/step - loss: 0.9053 - accuracy: 0.6877\n",
      "Epoch 24/50\n",
      "1563/1563 [==============================] - 10s 6ms/step - loss: 0.8792 - accuracy: 0.6965\n",
      "Epoch 25/50\n",
      "1563/1563 [==============================] - 10s 6ms/step - loss: 0.8553 - accuracy: 0.7059\n",
      "Epoch 26/50\n",
      "1563/1563 [==============================] - 9s 6ms/step - loss: 0.8273 - accuracy: 0.7149\n",
      "Epoch 27/50\n",
      "1563/1563 [==============================] - 9s 6ms/step - loss: 0.8033 - accuracy: 0.7254\n",
      "Epoch 28/50\n",
      "1563/1563 [==============================] - 9s 6ms/step - loss: 0.7779 - accuracy: 0.7323\n",
      "Epoch 29/50\n",
      "1563/1563 [==============================] - 9s 6ms/step - loss: 0.7524 - accuracy: 0.7424\n",
      "Epoch 30/50\n",
      "1563/1563 [==============================] - 9s 6ms/step - loss: 0.7268 - accuracy: 0.7537\n",
      "Epoch 31/50\n",
      "1563/1563 [==============================] - 10s 6ms/step - loss: 0.7021 - accuracy: 0.7620\n",
      "Epoch 32/50\n",
      "1563/1563 [==============================] - 9s 6ms/step - loss: 0.6802 - accuracy: 0.7682\n",
      "Epoch 33/50\n",
      "1563/1563 [==============================] - 9s 6ms/step - loss: 0.6551 - accuracy: 0.7800\n",
      "Epoch 34/50\n",
      "1563/1563 [==============================] - 9s 6ms/step - loss: 0.6322 - accuracy: 0.7867\n",
      "Epoch 35/50\n",
      "1563/1563 [==============================] - 9s 6ms/step - loss: 0.6016 - accuracy: 0.7990\n",
      "Epoch 36/50\n",
      "1563/1563 [==============================] - 9s 6ms/step - loss: 0.5853 - accuracy: 0.8044\n",
      "Epoch 37/50\n",
      "1563/1563 [==============================] - 9s 6ms/step - loss: 0.5587 - accuracy: 0.8156\n",
      "Epoch 38/50\n",
      "1563/1563 [==============================] - 9s 6ms/step - loss: 0.5361 - accuracy: 0.8213\n",
      "Epoch 39/50\n",
      "1563/1563 [==============================] - 9s 6ms/step - loss: 0.5128 - accuracy: 0.8321\n",
      "Epoch 40/50\n",
      "1563/1563 [==============================] - 9s 6ms/step - loss: 0.4944 - accuracy: 0.8372\n",
      "Epoch 41/50\n",
      "1563/1563 [==============================] - 9s 6ms/step - loss: 0.4700 - accuracy: 0.8471\n",
      "Epoch 42/50\n",
      "1563/1563 [==============================] - 9s 6ms/step - loss: 0.4471 - accuracy: 0.8548\n",
      "Epoch 43/50\n",
      "1563/1563 [==============================] - 10s 6ms/step - loss: 0.4251 - accuracy: 0.8646\n",
      "Epoch 44/50\n",
      "1563/1563 [==============================] - 10s 6ms/step - loss: 0.4063 - accuracy: 0.8695\n",
      "Epoch 45/50\n",
      "1563/1563 [==============================] - 10s 6ms/step - loss: 0.3815 - accuracy: 0.8819\n",
      "Epoch 46/50\n",
      "1563/1563 [==============================] - 10s 6ms/step - loss: 0.3646 - accuracy: 0.8867\n",
      "Epoch 47/50\n",
      "1563/1563 [==============================] - 10s 6ms/step - loss: 0.3477 - accuracy: 0.8915\n",
      "Epoch 48/50\n",
      "1563/1563 [==============================] - 9s 6ms/step - loss: 0.3290 - accuracy: 0.8986\n",
      "Epoch 49/50\n",
      "1563/1563 [==============================] - 9s 6ms/step - loss: 0.3118 - accuracy: 0.9030\n",
      "Epoch 50/50\n",
      "1563/1563 [==============================] - 9s 6ms/step - loss: 0.2995 - accuracy: 0.9090\n"
     ]
    },
    {
     "data": {
      "text/plain": [
       "<keras.callbacks.History at 0x13e7878df00>"
      ]
     },
     "execution_count": 14,
     "metadata": {},
     "output_type": "execute_result"
    }
   ],
   "source": [
    "model=keras.Sequential([\n",
    "    keras.layers.Flatten(input_shape=(32,32,3)), \n",
    "    keras.layers.Dense(3000,activation='relu'), \n",
    "    keras.layers.Dense(1000,activation='relu'),\n",
    "    keras.layers.Dense(10,activation='sigmoid')\n",
    "])\n",
    "\n",
    "model.compile(\n",
    "    optimizer='SGD', \n",
    "    loss='categorical_crossentropy', \n",
    "    metrics=['accuracy']\n",
    ")\n",
    "model.fit(x_trained_scaled,y_train_categorical,epochs=50)"
   ]
  },
  {
   "cell_type": "code",
   "execution_count": 19,
   "id": "a4b3c1f2-f098-4d0d-b9f1-3502d689d393",
   "metadata": {},
   "outputs": [
    {
     "name": "stdout",
     "output_type": "stream",
     "text": [
      "INFO:tensorflow:Assets written to: ram://761f9b8b-c8b8-41f5-b90a-eb05bd2dde83/assets\n"
     ]
    }
   ],
   "source": [
    "with open('chapter_17_model','wb') as f:\n",
    "    pickle.dump(model,f)"
   ]
  },
  {
   "cell_type": "code",
   "execution_count": 20,
   "id": "52cc81ca-befd-4814-81c8-131a51b4e0e1",
   "metadata": {},
   "outputs": [
    {
     "name": "stdout",
     "output_type": "stream",
     "text": [
      "313/313 [==============================] - 1s 2ms/step\n"
     ]
    },
    {
     "data": {
      "text/plain": [
       "'frog'"
      ]
     },
     "execution_count": 20,
     "metadata": {},
     "output_type": "execute_result"
    }
   ],
   "source": [
    "classes \n",
    "classes[np.argmax(model.predict(x_test_scaled)[7])]"
   ]
  },
  {
   "cell_type": "code",
   "execution_count": 21,
   "id": "94a00806-40d4-44cf-9c2f-bd9880b9cb14",
   "metadata": {},
   "outputs": [
    {
     "data": {
      "text/plain": [
       "'frog'"
      ]
     },
     "execution_count": 21,
     "metadata": {},
     "output_type": "execute_result"
    }
   ],
   "source": [
    "classes[y_test[7][0]]"
   ]
  },
  {
   "cell_type": "code",
   "execution_count": 25,
   "id": "61a2ad6c-4e30-4952-a025-9ad9dd74a13b",
   "metadata": {},
   "outputs": [
    {
     "name": "stdout",
     "output_type": "stream",
     "text": [
      "313/313 [==============================] - 1s 4ms/step - loss: 1.6731 - accuracy: 0.5480\n"
     ]
    },
    {
     "data": {
      "text/plain": [
       "[1.6730644702911377, 0.5479999780654907]"
      ]
     },
     "execution_count": 25,
     "metadata": {},
     "output_type": "execute_result"
    }
   ],
   "source": [
    "model.evaluate(x_test_scaled,y_test_categorical)"
   ]
  },
  {
   "cell_type": "code",
   "execution_count": 30,
   "id": "c068461b-35b9-4c7f-8f25-2fe2e401c094",
   "metadata": {},
   "outputs": [],
   "source": [
    "def train_model():\n",
    "    model=keras.Sequential([\n",
    "    keras.layers.Flatten(input_shape=(32,32,3)), \n",
    "    keras.layers.Dense(3000,activation='relu'), \n",
    "    keras.layers.Dense(1000,activation='relu'),\n",
    "    keras.layers.Dense(10,activation='sigmoid')\n",
    "    ])\n",
    "\n",
    "    model.compile(\n",
    "    optimizer='SGD', \n",
    "    loss='categorical_crossentropy', \n",
    "    metrics=['accuracy']\n",
    "    )\n",
    "    return model"
   ]
  },
  {
   "cell_type": "code",
   "execution_count": 31,
   "id": "0842d260-f6bb-426b-9214-2c92c494447c",
   "metadata": {},
   "outputs": [
    {
     "name": "stdout",
     "output_type": "stream",
     "text": [
      "1563/1563 [==============================] - 47s 30ms/step - loss: 1.8113 - accuracy: 0.3517\n",
      "48 s ± 0 ns per loop (mean ± std. dev. of 1 run, 1 loop each)\n"
     ]
    }
   ],
   "source": [
    "\n",
    "%%timeit -n1 -r1\n",
    "with tf.device('/CPU:0'): \n",
    "    model_cpu=train_model()\n",
    "    model_cpu.fit(x_trained_scaled,y_train_categorical,epochs=1)"
   ]
  },
  {
   "cell_type": "code",
   "execution_count": 32,
   "id": "b5377e79-e4a8-4542-ab4d-219680cdb4fc",
   "metadata": {},
   "outputs": [
    {
     "name": "stdout",
     "output_type": "stream",
     "text": [
      "1563/1563 [==============================] - 10s 6ms/step - loss: 1.8149 - accuracy: 0.3540\n",
      "11 s ± 0 ns per loop (mean ± std. dev. of 1 run, 1 loop each)\n"
     ]
    }
   ],
   "source": [
    "\n",
    "%%timeit -n1 -r1\n",
    "with tf.device('/GPU:0'): \n",
    "    model_cpu=train_model()\n",
    "    model_cpu.fit(x_trained_scaled,y_train_categorical,epochs=1)"
   ]
  },
  {
   "cell_type": "code",
   "execution_count": null,
   "id": "2401840c-d387-4507-ab72-9cb44501ea98",
   "metadata": {},
   "outputs": [],
   "source": []
  }
 ],
 "metadata": {
  "kernelspec": {
   "display_name": "Python 3 (ipykernel)",
   "language": "python",
   "name": "python3"
  },
  "language_info": {
   "codemirror_mode": {
    "name": "ipython",
    "version": 3
   },
   "file_extension": ".py",
   "mimetype": "text/x-python",
   "name": "python",
   "nbconvert_exporter": "python",
   "pygments_lexer": "ipython3",
   "version": "3.10.14"
  },
  "widgets": {
   "application/vnd.jupyter.widget-state+json": {
    "state": {},
    "version_major": 2,
    "version_minor": 0
   }
  }
 },
 "nbformat": 4,
 "nbformat_minor": 5
}
